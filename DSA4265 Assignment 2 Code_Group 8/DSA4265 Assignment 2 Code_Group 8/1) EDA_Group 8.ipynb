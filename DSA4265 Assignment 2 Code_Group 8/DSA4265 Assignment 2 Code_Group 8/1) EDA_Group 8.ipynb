{
 "cells": [
  {
   "cell_type": "markdown",
   "id": "bd2b185a",
   "metadata": {
    "id": "KR_FMtx54fL-"
   },
   "source": [
    "#### Installing packages"
   ]
  },
  {
   "cell_type": "code",
   "execution_count": 1,
   "id": "bc048d1c",
   "metadata": {},
   "outputs": [
    {
     "name": "stdout",
     "output_type": "stream",
     "text": [
      "Requirement already satisfied: pandas==1.3.5 in /Users/bhaveshchainani/opt/anaconda3/lib/python3.8/site-packages (from -r requirements.txt (line 1)) (1.3.5)\n",
      "Requirement already satisfied: numpy==1.21.4 in /Users/bhaveshchainani/opt/anaconda3/lib/python3.8/site-packages (from -r requirements.txt (line 2)) (1.21.4)\n",
      "Requirement already satisfied: kneed==0.7.0 in /Users/bhaveshchainani/opt/anaconda3/lib/python3.8/site-packages (from -r requirements.txt (line 3)) (0.7.0)\n",
      "Requirement already satisfied: prince==0.7.1 in /Users/bhaveshchainani/opt/anaconda3/lib/python3.8/site-packages (from -r requirements.txt (line 4)) (0.7.1)\n",
      "Requirement already satisfied: kmodes==0.11.1 in /Users/bhaveshchainani/opt/anaconda3/lib/python3.8/site-packages (from -r requirements.txt (line 5)) (0.11.1)\n",
      "Requirement already satisfied: seaborn==0.11.2 in /Users/bhaveshchainani/opt/anaconda3/lib/python3.8/site-packages (from -r requirements.txt (line 6)) (0.11.2)\n",
      "Requirement already satisfied: matplotlib==3.4.3 in /Users/bhaveshchainani/opt/anaconda3/lib/python3.8/site-packages (from -r requirements.txt (line 7)) (3.4.3)\n",
      "Requirement already satisfied: scikit-learn==1.0.2 in /Users/bhaveshchainani/opt/anaconda3/lib/python3.8/site-packages (from -r requirements.txt (line 8)) (1.0.2)\n",
      "Requirement already satisfied: yellowbrick==1.4 in /Users/bhaveshchainani/opt/anaconda3/lib/python3.8/site-packages (from -r requirements.txt (line 9)) (1.4)\n",
      "Requirement already satisfied: scipy==1.6.2 in /Users/bhaveshchainani/opt/anaconda3/lib/python3.8/site-packages (from -r requirements.txt (line 10)) (1.6.2)\n",
      "Requirement already satisfied: statsmodels==0.12.2 in /Users/bhaveshchainani/opt/anaconda3/lib/python3.8/site-packages (from -r requirements.txt (line 11)) (0.12.2)\n",
      "Requirement already satisfied: openpyxl==3.0.9 in /Users/bhaveshchainani/opt/anaconda3/lib/python3.8/site-packages (from -r requirements.txt (line 12)) (3.0.9)\n",
      "Requirement already satisfied: pytz>=2017.3 in /Users/bhaveshchainani/opt/anaconda3/lib/python3.8/site-packages (from pandas==1.3.5->-r requirements.txt (line 1)) (2021.3)\n",
      "Requirement already satisfied: python-dateutil>=2.7.3 in /Users/bhaveshchainani/opt/anaconda3/lib/python3.8/site-packages (from pandas==1.3.5->-r requirements.txt (line 1)) (2.8.2)\n",
      "Requirement already satisfied: joblib>=0.11 in /Users/bhaveshchainani/opt/anaconda3/lib/python3.8/site-packages (from kmodes==0.11.1->-r requirements.txt (line 5)) (1.1.0)\n",
      "Requirement already satisfied: cycler>=0.10 in /Users/bhaveshchainani/opt/anaconda3/lib/python3.8/site-packages (from matplotlib==3.4.3->-r requirements.txt (line 7)) (0.10.0)\n",
      "Requirement already satisfied: pillow>=6.2.0 in /Users/bhaveshchainani/opt/anaconda3/lib/python3.8/site-packages (from matplotlib==3.4.3->-r requirements.txt (line 7)) (8.4.0)\n",
      "Requirement already satisfied: kiwisolver>=1.0.1 in /Users/bhaveshchainani/opt/anaconda3/lib/python3.8/site-packages (from matplotlib==3.4.3->-r requirements.txt (line 7)) (1.3.1)\n",
      "Requirement already satisfied: pyparsing>=2.2.1 in /Users/bhaveshchainani/opt/anaconda3/lib/python3.8/site-packages (from matplotlib==3.4.3->-r requirements.txt (line 7)) (3.0.4)\n",
      "Requirement already satisfied: threadpoolctl>=2.0.0 in /Users/bhaveshchainani/opt/anaconda3/lib/python3.8/site-packages (from scikit-learn==1.0.2->-r requirements.txt (line 8)) (2.2.0)\n",
      "Requirement already satisfied: patsy>=0.5 in /Users/bhaveshchainani/opt/anaconda3/lib/python3.8/site-packages (from statsmodels==0.12.2->-r requirements.txt (line 11)) (0.5.2)\n",
      "Requirement already satisfied: et-xmlfile in /Users/bhaveshchainani/opt/anaconda3/lib/python3.8/site-packages (from openpyxl==3.0.9->-r requirements.txt (line 12)) (1.1.0)\n",
      "Requirement already satisfied: six in /Users/bhaveshchainani/opt/anaconda3/lib/python3.8/site-packages (from cycler>=0.10->matplotlib==3.4.3->-r requirements.txt (line 7)) (1.15.0)\n",
      "Note: you may need to restart the kernel to use updated packages.\n"
     ]
    }
   ],
   "source": [
    "pip install -r requirements.txt"
   ]
  },
  {
   "cell_type": "code",
   "execution_count": 2,
   "id": "1d6f25a4",
   "metadata": {},
   "outputs": [],
   "source": [
    "#Import relevant packages\n",
    "import pandas as pd\n",
    "import numpy as np\n",
    "import re"
   ]
  },
  {
   "cell_type": "markdown",
   "id": "90fb7510",
   "metadata": {},
   "source": [
    "#### Reading in the data"
   ]
  },
  {
   "cell_type": "code",
   "execution_count": 3,
   "id": "8cbbb484",
   "metadata": {},
   "outputs": [
    {
     "name": "stderr",
     "output_type": "stream",
     "text": [
      "/Users/bhaveshchainani/opt/anaconda3/lib/python3.8/site-packages/openpyxl/styles/stylesheet.py:226: UserWarning: Workbook contains no default style, apply openpyxl's default\n",
      "  warn(\"Workbook contains no default style, apply openpyxl's default\")\n"
     ]
    }
   ],
   "source": [
    "data_2018 = pd.read_excel(\"data/2018-v262-16112021-EU MRV Publication of information.xlsx\")\n",
    "data_2019 = pd.read_excel(\"data/2019-v197-09032022-EU MRV Publication of information.xlsx\")\n",
    "data_2020 = pd.read_excel(\"data/2020-v121-09032022-EU MRV Publication of information.xlsx\")"
   ]
  },
  {
   "cell_type": "code",
   "execution_count": 4,
   "id": "d821b26f",
   "metadata": {},
   "outputs": [],
   "source": [
    "##cleaning the data to remove first two rows\n",
    "data_2018.columns = data_2018.iloc[1]\n",
    "data_2018 = data_2018.iloc[2:]\n",
    "data_2018 = data_2018.reset_index(drop=True)\n",
    "data_2018 = data_2018.rename_axis(None, axis=1)\n",
    "#data_2018"
   ]
  },
  {
   "cell_type": "code",
   "execution_count": 5,
   "id": "ed8691c1",
   "metadata": {},
   "outputs": [],
   "source": [
    "##cleaning the data to remove first two rows\n",
    "data_2019.columns = data_2019.iloc[1]\n",
    "data_2019 = data_2019.iloc[2:]\n",
    "data_2019 = data_2019.reset_index(drop=True)\n",
    "data_2019 = data_2019.rename_axis(None, axis=1)\n",
    "#data_2019"
   ]
  },
  {
   "cell_type": "code",
   "execution_count": 6,
   "id": "2499d10e",
   "metadata": {},
   "outputs": [],
   "source": [
    "##cleaning the data to remove first two rows\n",
    "data_2020.columns = data_2020.iloc[1]\n",
    "data_2020 = data_2020.iloc[2:]\n",
    "data_2020 = data_2020.reset_index(drop=True)\n",
    "data_2020 = data_2020.rename_axis(None, axis=1)\n",
    "#data_2020"
   ]
  },
  {
   "cell_type": "code",
   "execution_count": 7,
   "id": "5e943b7e",
   "metadata": {},
   "outputs": [],
   "source": [
    "a = data_2018.columns.to_list()\n",
    "b = data_2019.columns.to_list()\n",
    "c = data_2020.columns.to_list()\n",
    "\n",
    "#both 2018 and 2019 have same column names in list"
   ]
  },
  {
   "cell_type": "code",
   "execution_count": 8,
   "id": "9dab5a95",
   "metadata": {},
   "outputs": [],
   "source": [
    "# Difference in column names as compared to 2020\n",
    "# ['Annual Time spent at sea [hours]',\n",
    "# 'Annual Total time spent at sea [hours]', 'Time spent at sea [hours]',\n",
    "# 'Total time spent at sea [hours]']"
   ]
  },
  {
   "cell_type": "code",
   "execution_count": 9,
   "id": "ab4132e5",
   "metadata": {},
   "outputs": [
    {
     "data": {
      "text/plain": [
       "Index(['Annual Time spent at sea [hours]',\n",
       "       'Annual Total time spent at sea [hours]', 'Time spent at sea [hours]',\n",
       "       'Total time spent at sea [hours]'],\n",
       "      dtype='object')"
      ]
     },
     "execution_count": 9,
     "metadata": {},
     "output_type": "execute_result"
    }
   ],
   "source": [
    "data_2020.columns.symmetric_difference(data_2019.columns)"
   ]
  },
  {
   "cell_type": "code",
   "execution_count": 10,
   "id": "31d2b6ea",
   "metadata": {},
   "outputs": [],
   "source": [
    "#rename 2020 columns\n",
    "data_2020 = data_2020.rename(columns={\"Time spent at sea [hours]\":\"Total time spent at sea [hours]\",\n",
    "                         \"Annual Time spent at sea [hours]\":\"Annual Total time spent at sea [hours]\"})"
   ]
  },
  {
   "cell_type": "code",
   "execution_count": 11,
   "id": "3c3b32ca",
   "metadata": {},
   "outputs": [
    {
     "data": {
      "text/plain": [
       "True"
      ]
     },
     "execution_count": 11,
     "metadata": {},
     "output_type": "execute_result"
    }
   ],
   "source": [
    "#checking that all the column names match\n",
    "data_2019.columns.to_list() == data_2020.columns.to_list()"
   ]
  },
  {
   "cell_type": "code",
   "execution_count": 12,
   "id": "ea12fccd",
   "metadata": {},
   "outputs": [],
   "source": [
    "##combining 3 years worth of data together\n",
    "data_combined = pd.concat([data_2018, data_2019, data_2020], axis=0)\n",
    "data_combined = data_combined.reset_index(drop=True)"
   ]
  },
  {
   "cell_type": "markdown",
   "id": "60dcfd5f",
   "metadata": {},
   "source": [
    "#### Cleaning Data_Combined (3 years of data combined)"
   ]
  },
  {
   "cell_type": "code",
   "execution_count": 13,
   "id": "332634f3",
   "metadata": {},
   "outputs": [],
   "source": [
    "data_combined[\"Reporting Period\"] = data_combined[\"Reporting Period\"].astype(int)"
   ]
  },
  {
   "cell_type": "code",
   "execution_count": 14,
   "id": "294888d4",
   "metadata": {},
   "outputs": [
    {
     "data": {
      "text/html": [
       "<div>\n",
       "<style scoped>\n",
       "    .dataframe tbody tr th:only-of-type {\n",
       "        vertical-align: middle;\n",
       "    }\n",
       "\n",
       "    .dataframe tbody tr th {\n",
       "        vertical-align: top;\n",
       "    }\n",
       "\n",
       "    .dataframe thead th {\n",
       "        text-align: right;\n",
       "    }\n",
       "</style>\n",
       "<table border=\"1\" class=\"dataframe\">\n",
       "  <thead>\n",
       "    <tr style=\"text-align: right;\">\n",
       "      <th></th>\n",
       "      <th>IMO Number</th>\n",
       "      <th>Name</th>\n",
       "      <th>Ship type</th>\n",
       "      <th>Reporting Period</th>\n",
       "      <th>Technical efficiency</th>\n",
       "      <th>Port of Registry</th>\n",
       "      <th>Home Port</th>\n",
       "      <th>Ice Class</th>\n",
       "      <th>DoC issue date</th>\n",
       "      <th>DoC expiry date</th>\n",
       "      <th>...</th>\n",
       "      <th>Fuel consumption per transport work (pax) on laden voyages [g / pax · n miles]</th>\n",
       "      <th>Fuel consumption per transport work (freight) on laden voyages [g / m tonnes · n miles]</th>\n",
       "      <th>CO₂ emissions per distance on laden voyages [kg CO₂ / n mile]</th>\n",
       "      <th>CO₂ emissions per transport work (mass) on laden voyages [g CO₂ / m tonnes · n miles]</th>\n",
       "      <th>CO₂ emissions per transport work (volume) on laden voyages [g CO₂ / m³ · n miles]</th>\n",
       "      <th>CO₂ emissions per transport work (dwt) on laden voyages [g CO₂ / dwt carried · n miles]</th>\n",
       "      <th>CO₂ emissions per transport work (pax) on laden voyages [g CO₂ / pax · n miles]</th>\n",
       "      <th>CO₂ emissions per transport work (freight) on laden voyages [g CO₂ / m tonnes · n miles]</th>\n",
       "      <th>Additional information to facilitate the understanding of the reported average operational energy efficiency indicators</th>\n",
       "      <th>Average density of the cargo transported [m tonnes / m³]</th>\n",
       "    </tr>\n",
       "  </thead>\n",
       "  <tbody>\n",
       "    <tr>\n",
       "      <th>0</th>\n",
       "      <td>5383304</td>\n",
       "      <td>ASTORIA</td>\n",
       "      <td>Passenger ship</td>\n",
       "      <td>2018</td>\n",
       "      <td>Not Applicable</td>\n",
       "      <td>NaN</td>\n",
       "      <td>NaN</td>\n",
       "      <td>NaN</td>\n",
       "      <td>05/02/2019</td>\n",
       "      <td>30/06/2020</td>\n",
       "      <td>...</td>\n",
       "      <td>NaN</td>\n",
       "      <td>NaN</td>\n",
       "      <td>NaN</td>\n",
       "      <td>NaN</td>\n",
       "      <td>NaN</td>\n",
       "      <td>NaN</td>\n",
       "      <td>NaN</td>\n",
       "      <td>NaN</td>\n",
       "      <td>NaN</td>\n",
       "      <td>NaN</td>\n",
       "    </tr>\n",
       "    <tr>\n",
       "      <th>1</th>\n",
       "      <td>6417097</td>\n",
       "      <td>MARCO POLO</td>\n",
       "      <td>Passenger ship</td>\n",
       "      <td>2018</td>\n",
       "      <td>Not Applicable</td>\n",
       "      <td>NaN</td>\n",
       "      <td>NaN</td>\n",
       "      <td>IC</td>\n",
       "      <td>05/02/2019</td>\n",
       "      <td>30/06/2020</td>\n",
       "      <td>...</td>\n",
       "      <td>NaN</td>\n",
       "      <td>NaN</td>\n",
       "      <td>NaN</td>\n",
       "      <td>NaN</td>\n",
       "      <td>NaN</td>\n",
       "      <td>NaN</td>\n",
       "      <td>NaN</td>\n",
       "      <td>NaN</td>\n",
       "      <td>NaN</td>\n",
       "      <td>NaN</td>\n",
       "    </tr>\n",
       "    <tr>\n",
       "      <th>2</th>\n",
       "      <td>6511128</td>\n",
       "      <td>RED STAR 1</td>\n",
       "      <td>Ro-pax ship</td>\n",
       "      <td>2018</td>\n",
       "      <td>EIV (45.57 gCO₂/t·nm)</td>\n",
       "      <td>NaN</td>\n",
       "      <td>NaN</td>\n",
       "      <td>NaN</td>\n",
       "      <td>30/04/2019</td>\n",
       "      <td>30/06/2020</td>\n",
       "      <td>...</td>\n",
       "      <td>NaN</td>\n",
       "      <td>NaN</td>\n",
       "      <td>NaN</td>\n",
       "      <td>NaN</td>\n",
       "      <td>NaN</td>\n",
       "      <td>NaN</td>\n",
       "      <td>NaN</td>\n",
       "      <td>NaN</td>\n",
       "      <td>NaN</td>\n",
       "      <td>NaN</td>\n",
       "    </tr>\n",
       "    <tr>\n",
       "      <th>3</th>\n",
       "      <td>6602898</td>\n",
       "      <td>OCEAN MAJESTY</td>\n",
       "      <td>Passenger ship</td>\n",
       "      <td>2018</td>\n",
       "      <td>EIV (31.73 gCO₂/t·nm)</td>\n",
       "      <td>Madeira</td>\n",
       "      <td>NaN</td>\n",
       "      <td>NaN</td>\n",
       "      <td>06/05/2019</td>\n",
       "      <td>30/06/2020</td>\n",
       "      <td>...</td>\n",
       "      <td>NaN</td>\n",
       "      <td>NaN</td>\n",
       "      <td>NaN</td>\n",
       "      <td>NaN</td>\n",
       "      <td>NaN</td>\n",
       "      <td>NaN</td>\n",
       "      <td>NaN</td>\n",
       "      <td>NaN</td>\n",
       "      <td>NaN</td>\n",
       "      <td>NaN</td>\n",
       "    </tr>\n",
       "    <tr>\n",
       "      <th>4</th>\n",
       "      <td>6703343</td>\n",
       "      <td>EQUALITY</td>\n",
       "      <td>Other ship types</td>\n",
       "      <td>2018</td>\n",
       "      <td>Not Applicable</td>\n",
       "      <td>Beirut</td>\n",
       "      <td>NaN</td>\n",
       "      <td>NaN</td>\n",
       "      <td>30/06/2019</td>\n",
       "      <td>30/06/2020</td>\n",
       "      <td>...</td>\n",
       "      <td>NaN</td>\n",
       "      <td>NaN</td>\n",
       "      <td>NaN</td>\n",
       "      <td>NaN</td>\n",
       "      <td>NaN</td>\n",
       "      <td>NaN</td>\n",
       "      <td>NaN</td>\n",
       "      <td>NaN</td>\n",
       "      <td>NaN</td>\n",
       "      <td>NaN</td>\n",
       "    </tr>\n",
       "    <tr>\n",
       "      <th>...</th>\n",
       "      <td>...</td>\n",
       "      <td>...</td>\n",
       "      <td>...</td>\n",
       "      <td>...</td>\n",
       "      <td>...</td>\n",
       "      <td>...</td>\n",
       "      <td>...</td>\n",
       "      <td>...</td>\n",
       "      <td>...</td>\n",
       "      <td>...</td>\n",
       "      <td>...</td>\n",
       "      <td>...</td>\n",
       "      <td>...</td>\n",
       "      <td>...</td>\n",
       "      <td>...</td>\n",
       "      <td>...</td>\n",
       "      <td>...</td>\n",
       "      <td>...</td>\n",
       "      <td>...</td>\n",
       "      <td>...</td>\n",
       "      <td>...</td>\n",
       "    </tr>\n",
       "    <tr>\n",
       "      <th>36448</th>\n",
       "      <td>9903839</td>\n",
       "      <td>POLA VARVARA</td>\n",
       "      <td>General cargo ship</td>\n",
       "      <td>2020</td>\n",
       "      <td>EEDI (14.47 gCO₂/t·nm)</td>\n",
       "      <td>NaN</td>\n",
       "      <td>NaN</td>\n",
       "      <td>NaN</td>\n",
       "      <td>30/06/2021</td>\n",
       "      <td>30/06/2022</td>\n",
       "      <td>...</td>\n",
       "      <td>NaN</td>\n",
       "      <td>NaN</td>\n",
       "      <td>NaN</td>\n",
       "      <td>NaN</td>\n",
       "      <td>NaN</td>\n",
       "      <td>NaN</td>\n",
       "      <td>NaN</td>\n",
       "      <td>NaN</td>\n",
       "      <td>NaN</td>\n",
       "      <td>NaN</td>\n",
       "    </tr>\n",
       "    <tr>\n",
       "      <th>36449</th>\n",
       "      <td>9903841</td>\n",
       "      <td>POLA AGATA</td>\n",
       "      <td>General cargo ship</td>\n",
       "      <td>2020</td>\n",
       "      <td>EEDI (14.12 gCO₂/t·nm)</td>\n",
       "      <td>NaN</td>\n",
       "      <td>NaN</td>\n",
       "      <td>NaN</td>\n",
       "      <td>30/06/2021</td>\n",
       "      <td>30/06/2022</td>\n",
       "      <td>...</td>\n",
       "      <td>NaN</td>\n",
       "      <td>NaN</td>\n",
       "      <td>NaN</td>\n",
       "      <td>NaN</td>\n",
       "      <td>NaN</td>\n",
       "      <td>NaN</td>\n",
       "      <td>NaN</td>\n",
       "      <td>NaN</td>\n",
       "      <td>NaN</td>\n",
       "      <td>NaN</td>\n",
       "    </tr>\n",
       "    <tr>\n",
       "      <th>36450</th>\n",
       "      <td>9903853</td>\n",
       "      <td>POLA ALEXIA</td>\n",
       "      <td>General cargo ship</td>\n",
       "      <td>2020</td>\n",
       "      <td>EEDI (14.21 gCO₂/t·nm)</td>\n",
       "      <td>NaN</td>\n",
       "      <td>NaN</td>\n",
       "      <td>NaN</td>\n",
       "      <td>30/06/2021</td>\n",
       "      <td>30/06/2022</td>\n",
       "      <td>...</td>\n",
       "      <td>NaN</td>\n",
       "      <td>NaN</td>\n",
       "      <td>NaN</td>\n",
       "      <td>NaN</td>\n",
       "      <td>NaN</td>\n",
       "      <td>NaN</td>\n",
       "      <td>NaN</td>\n",
       "      <td>NaN</td>\n",
       "      <td>NaN</td>\n",
       "      <td>NaN</td>\n",
       "    </tr>\n",
       "    <tr>\n",
       "      <th>36451</th>\n",
       "      <td>9903865</td>\n",
       "      <td>POLA MARINA</td>\n",
       "      <td>General cargo ship</td>\n",
       "      <td>2020</td>\n",
       "      <td>EEDI (14.17 gCO₂/t·nm)</td>\n",
       "      <td>NaN</td>\n",
       "      <td>NaN</td>\n",
       "      <td>NaN</td>\n",
       "      <td>30/06/2021</td>\n",
       "      <td>30/06/2022</td>\n",
       "      <td>...</td>\n",
       "      <td>NaN</td>\n",
       "      <td>NaN</td>\n",
       "      <td>NaN</td>\n",
       "      <td>NaN</td>\n",
       "      <td>NaN</td>\n",
       "      <td>NaN</td>\n",
       "      <td>NaN</td>\n",
       "      <td>NaN</td>\n",
       "      <td>NaN</td>\n",
       "      <td>NaN</td>\n",
       "    </tr>\n",
       "    <tr>\n",
       "      <th>36452</th>\n",
       "      <td>9910088</td>\n",
       "      <td>PETROTRANS-5904</td>\n",
       "      <td>General cargo ship</td>\n",
       "      <td>2020</td>\n",
       "      <td>EEDI (13.08 gCO₂/t·nm)</td>\n",
       "      <td>NaN</td>\n",
       "      <td>NaN</td>\n",
       "      <td>NaN</td>\n",
       "      <td>01/07/2021</td>\n",
       "      <td>30/06/2022</td>\n",
       "      <td>...</td>\n",
       "      <td>NaN</td>\n",
       "      <td>NaN</td>\n",
       "      <td>NaN</td>\n",
       "      <td>NaN</td>\n",
       "      <td>NaN</td>\n",
       "      <td>NaN</td>\n",
       "      <td>NaN</td>\n",
       "      <td>NaN</td>\n",
       "      <td>NaN</td>\n",
       "      <td>NaN</td>\n",
       "    </tr>\n",
       "  </tbody>\n",
       "</table>\n",
       "<p>36453 rows × 61 columns</p>\n",
       "</div>"
      ],
      "text/plain": [
       "      IMO Number             Name           Ship type  Reporting Period  \\\n",
       "0        5383304          ASTORIA      Passenger ship              2018   \n",
       "1        6417097       MARCO POLO      Passenger ship              2018   \n",
       "2        6511128       RED STAR 1         Ro-pax ship              2018   \n",
       "3        6602898    OCEAN MAJESTY      Passenger ship              2018   \n",
       "4        6703343         EQUALITY    Other ship types              2018   \n",
       "...          ...              ...                 ...               ...   \n",
       "36448    9903839     POLA VARVARA  General cargo ship              2020   \n",
       "36449    9903841       POLA AGATA  General cargo ship              2020   \n",
       "36450    9903853      POLA ALEXIA  General cargo ship              2020   \n",
       "36451    9903865      POLA MARINA  General cargo ship              2020   \n",
       "36452    9910088  PETROTRANS-5904  General cargo ship              2020   \n",
       "\n",
       "         Technical efficiency Port of Registry Home Port Ice Class  \\\n",
       "0              Not Applicable              NaN       NaN       NaN   \n",
       "1              Not Applicable              NaN       NaN        IC   \n",
       "2       EIV (45.57 gCO₂/t·nm)              NaN       NaN       NaN   \n",
       "3       EIV (31.73 gCO₂/t·nm)          Madeira       NaN       NaN   \n",
       "4              Not Applicable           Beirut       NaN       NaN   \n",
       "...                       ...              ...       ...       ...   \n",
       "36448  EEDI (14.47 gCO₂/t·nm)              NaN       NaN       NaN   \n",
       "36449  EEDI (14.12 gCO₂/t·nm)              NaN       NaN       NaN   \n",
       "36450  EEDI (14.21 gCO₂/t·nm)              NaN       NaN       NaN   \n",
       "36451  EEDI (14.17 gCO₂/t·nm)              NaN       NaN       NaN   \n",
       "36452  EEDI (13.08 gCO₂/t·nm)              NaN       NaN       NaN   \n",
       "\n",
       "      DoC issue date DoC expiry date  ...  \\\n",
       "0         05/02/2019      30/06/2020  ...   \n",
       "1         05/02/2019      30/06/2020  ...   \n",
       "2         30/04/2019      30/06/2020  ...   \n",
       "3         06/05/2019      30/06/2020  ...   \n",
       "4         30/06/2019      30/06/2020  ...   \n",
       "...              ...             ...  ...   \n",
       "36448     30/06/2021      30/06/2022  ...   \n",
       "36449     30/06/2021      30/06/2022  ...   \n",
       "36450     30/06/2021      30/06/2022  ...   \n",
       "36451     30/06/2021      30/06/2022  ...   \n",
       "36452     01/07/2021      30/06/2022  ...   \n",
       "\n",
       "      Fuel consumption per transport work (pax) on laden voyages [g / pax · n miles]  \\\n",
       "0                                                    NaN                               \n",
       "1                                                    NaN                               \n",
       "2                                                    NaN                               \n",
       "3                                                    NaN                               \n",
       "4                                                    NaN                               \n",
       "...                                                  ...                               \n",
       "36448                                                NaN                               \n",
       "36449                                                NaN                               \n",
       "36450                                                NaN                               \n",
       "36451                                                NaN                               \n",
       "36452                                                NaN                               \n",
       "\n",
       "      Fuel consumption per transport work (freight) on laden voyages [g / m tonnes · n miles]  \\\n",
       "0                                                    NaN                                        \n",
       "1                                                    NaN                                        \n",
       "2                                                    NaN                                        \n",
       "3                                                    NaN                                        \n",
       "4                                                    NaN                                        \n",
       "...                                                  ...                                        \n",
       "36448                                                NaN                                        \n",
       "36449                                                NaN                                        \n",
       "36450                                                NaN                                        \n",
       "36451                                                NaN                                        \n",
       "36452                                                NaN                                        \n",
       "\n",
       "      CO₂ emissions per distance on laden voyages [kg CO₂ / n mile]  \\\n",
       "0                                                    NaN              \n",
       "1                                                    NaN              \n",
       "2                                                    NaN              \n",
       "3                                                    NaN              \n",
       "4                                                    NaN              \n",
       "...                                                  ...              \n",
       "36448                                                NaN              \n",
       "36449                                                NaN              \n",
       "36450                                                NaN              \n",
       "36451                                                NaN              \n",
       "36452                                                NaN              \n",
       "\n",
       "      CO₂ emissions per transport work (mass) on laden voyages [g CO₂ / m tonnes · n miles]  \\\n",
       "0                                                    NaN                                      \n",
       "1                                                    NaN                                      \n",
       "2                                                    NaN                                      \n",
       "3                                                    NaN                                      \n",
       "4                                                    NaN                                      \n",
       "...                                                  ...                                      \n",
       "36448                                                NaN                                      \n",
       "36449                                                NaN                                      \n",
       "36450                                                NaN                                      \n",
       "36451                                                NaN                                      \n",
       "36452                                                NaN                                      \n",
       "\n",
       "      CO₂ emissions per transport work (volume) on laden voyages [g CO₂ / m³ · n miles]  \\\n",
       "0                                                    NaN                                  \n",
       "1                                                    NaN                                  \n",
       "2                                                    NaN                                  \n",
       "3                                                    NaN                                  \n",
       "4                                                    NaN                                  \n",
       "...                                                  ...                                  \n",
       "36448                                                NaN                                  \n",
       "36449                                                NaN                                  \n",
       "36450                                                NaN                                  \n",
       "36451                                                NaN                                  \n",
       "36452                                                NaN                                  \n",
       "\n",
       "      CO₂ emissions per transport work (dwt) on laden voyages [g CO₂ / dwt carried · n miles]  \\\n",
       "0                                                    NaN                                        \n",
       "1                                                    NaN                                        \n",
       "2                                                    NaN                                        \n",
       "3                                                    NaN                                        \n",
       "4                                                    NaN                                        \n",
       "...                                                  ...                                        \n",
       "36448                                                NaN                                        \n",
       "36449                                                NaN                                        \n",
       "36450                                                NaN                                        \n",
       "36451                                                NaN                                        \n",
       "36452                                                NaN                                        \n",
       "\n",
       "      CO₂ emissions per transport work (pax) on laden voyages [g CO₂ / pax · n miles]  \\\n",
       "0                                                    NaN                                \n",
       "1                                                    NaN                                \n",
       "2                                                    NaN                                \n",
       "3                                                    NaN                                \n",
       "4                                                    NaN                                \n",
       "...                                                  ...                                \n",
       "36448                                                NaN                                \n",
       "36449                                                NaN                                \n",
       "36450                                                NaN                                \n",
       "36451                                                NaN                                \n",
       "36452                                                NaN                                \n",
       "\n",
       "      CO₂ emissions per transport work (freight) on laden voyages [g CO₂ / m tonnes · n miles]  \\\n",
       "0                                                    NaN                                         \n",
       "1                                                    NaN                                         \n",
       "2                                                    NaN                                         \n",
       "3                                                    NaN                                         \n",
       "4                                                    NaN                                         \n",
       "...                                                  ...                                         \n",
       "36448                                                NaN                                         \n",
       "36449                                                NaN                                         \n",
       "36450                                                NaN                                         \n",
       "36451                                                NaN                                         \n",
       "36452                                                NaN                                         \n",
       "\n",
       "      Additional information to facilitate the understanding of the reported average operational energy efficiency indicators  \\\n",
       "0                                                    NaN                                                                        \n",
       "1                                                    NaN                                                                        \n",
       "2                                                    NaN                                                                        \n",
       "3                                                    NaN                                                                        \n",
       "4                                                    NaN                                                                        \n",
       "...                                                  ...                                                                        \n",
       "36448                                                NaN                                                                        \n",
       "36449                                                NaN                                                                        \n",
       "36450                                                NaN                                                                        \n",
       "36451                                                NaN                                                                        \n",
       "36452                                                NaN                                                                        \n",
       "\n",
       "      Average density of the cargo transported [m tonnes / m³]  \n",
       "0                                                    NaN        \n",
       "1                                                    NaN        \n",
       "2                                                    NaN        \n",
       "3                                                    NaN        \n",
       "4                                                    NaN        \n",
       "...                                                  ...        \n",
       "36448                                                NaN        \n",
       "36449                                                NaN        \n",
       "36450                                                NaN        \n",
       "36451                                                NaN        \n",
       "36452                                                NaN        \n",
       "\n",
       "[36453 rows x 61 columns]"
      ]
     },
     "execution_count": 14,
     "metadata": {},
     "output_type": "execute_result"
    }
   ],
   "source": [
    "data_combined.drop_duplicates()\n",
    "#no duplicates"
   ]
  },
  {
   "cell_type": "code",
   "execution_count": 15,
   "id": "6992c097",
   "metadata": {},
   "outputs": [
    {
     "data": {
      "text/plain": [
       "['IMO Number',\n",
       " 'Name',\n",
       " 'Ship type',\n",
       " 'Reporting Period',\n",
       " 'Technical efficiency',\n",
       " 'Port of Registry',\n",
       " 'Home Port',\n",
       " 'Ice Class',\n",
       " 'DoC issue date',\n",
       " 'DoC expiry date',\n",
       " 'Verifier Number',\n",
       " 'Verifier Name',\n",
       " 'Verifier NAB',\n",
       " 'Verifier Address',\n",
       " 'Verifier City',\n",
       " 'Verifier Accreditation number',\n",
       " 'Verifier Country',\n",
       " 'A',\n",
       " 'B',\n",
       " 'C',\n",
       " 'D',\n",
       " 'Total fuel consumption [m tonnes]',\n",
       " 'Fuel consumptions assigned to On laden [m tonnes]',\n",
       " 'Total CO₂ emissions [m tonnes]',\n",
       " 'CO₂ emissions from all voyages between ports under a MS jurisdiction [m tonnes]',\n",
       " 'CO₂ emissions from all voyages which departed from ports under a MS jurisdiction [m tonnes]',\n",
       " 'CO₂ emissions from all voyages to ports under a MS jurisdiction [m tonnes]',\n",
       " 'CO₂ emissions which occurred within ports under a MS jurisdiction at berth [m tonnes]',\n",
       " 'CO₂ emissions assigned to Passenger transport [m tonnes]',\n",
       " 'CO₂ emissions assigned to Freight transport [m tonnes]',\n",
       " 'CO₂ emissions assigned to On laden [m tonnes]',\n",
       " 'Annual Total time spent at sea [hours]',\n",
       " 'Annual average Fuel consumption per distance [kg / n mile]',\n",
       " 'Annual average Fuel consumption per transport work (mass) [g / m tonnes · n miles]',\n",
       " 'Annual average Fuel consumption per transport work (volume) [g / m³ · n miles]',\n",
       " 'Annual average Fuel consumption per transport work (dwt) [g / dwt carried · n miles]',\n",
       " 'Annual average Fuel consumption per transport work (pax) [g / pax · n miles]',\n",
       " 'Annual average Fuel consumption per transport work (freight) [g / m tonnes · n miles]',\n",
       " 'Annual average CO₂ emissions per distance [kg CO₂ / n mile]',\n",
       " 'Annual average CO₂ emissions per transport work (mass) [g CO₂ / m tonnes · n miles]',\n",
       " 'Annual average CO₂ emissions per transport work (volume) [g CO₂ / m³ · n miles]',\n",
       " 'Annual average CO₂ emissions per transport work (dwt) [g CO₂ / dwt carried · n miles]',\n",
       " 'Annual average CO₂ emissions per transport work (pax) [g CO₂ / pax · n miles]',\n",
       " 'Annual average CO₂ emissions per transport work (freight) [g CO₂ / m tonnes · n miles]',\n",
       " 'Through ice [n miles]',\n",
       " 'Total time spent at sea [hours]',\n",
       " 'Total time spent at sea through ice [hours]',\n",
       " 'Fuel consumption per distance on laden voyages [kg / n mile]',\n",
       " 'Fuel consumption per transport work (mass) on laden voyages [g / m tonnes · n miles]',\n",
       " 'Fuel consumption per transport work (volume) on laden voyages [g / m³ · n miles]',\n",
       " 'Fuel consumption per transport work (dwt) on laden voyages [g / dwt carried · n miles]',\n",
       " 'Fuel consumption per transport work (pax) on laden voyages [g / pax · n miles]',\n",
       " 'Fuel consumption per transport work (freight) on laden voyages [g / m tonnes · n miles]',\n",
       " 'CO₂ emissions per distance on laden voyages [kg CO₂ / n mile]',\n",
       " 'CO₂ emissions per transport work (mass) on laden voyages [g CO₂ / m tonnes · n miles]',\n",
       " 'CO₂ emissions per transport work (volume) on laden voyages [g CO₂ / m³ · n miles]',\n",
       " 'CO₂ emissions per transport work (dwt) on laden voyages [g CO₂ / dwt carried · n miles]',\n",
       " 'CO₂ emissions per transport work (pax) on laden voyages [g CO₂ / pax · n miles]',\n",
       " 'CO₂ emissions per transport work (freight) on laden voyages [g CO₂ / m tonnes · n miles]',\n",
       " 'Additional information to facilitate the understanding of the reported average operational energy efficiency indicators',\n",
       " 'Average density of the cargo transported [m tonnes / m³]']"
      ]
     },
     "execution_count": 15,
     "metadata": {},
     "output_type": "execute_result"
    }
   ],
   "source": [
    "## view column names of data_combined\n",
    "data_combined.columns.to_list()"
   ]
  },
  {
   "cell_type": "code",
   "execution_count": 16,
   "id": "0e77a89c",
   "metadata": {},
   "outputs": [
    {
     "data": {
      "text/plain": [
       "Bulk carrier                  10861\n",
       "Oil tanker                     5792\n",
       "Container ship                 5504\n",
       "Chemical tanker                4070\n",
       "General cargo ship             3647\n",
       "Vehicle carrier                1335\n",
       "Ro-pax ship                    1167\n",
       "Gas carrier                    1006\n",
       "Ro-ro ship                      788\n",
       "LNG carrier                     735\n",
       "Passenger ship                  449\n",
       "Refrigerated cargo carrier      434\n",
       "Other ship types                404\n",
       "Container/ro-ro cargo ship      225\n",
       "Combination carrier              36\n",
       "Name: Ship type, dtype: int64"
      ]
     },
     "execution_count": 16,
     "metadata": {},
     "output_type": "execute_result"
    }
   ],
   "source": [
    "## exploring value counts of \"Ship type\"\n",
    "data_combined[\"Ship type\"].value_counts()"
   ]
  },
  {
   "cell_type": "code",
   "execution_count": 17,
   "id": "db56b778",
   "metadata": {},
   "outputs": [],
   "source": [
    "## replacing \"Division by zero!\" with np.nan\n",
    "data_combined = data_combined.replace(to_replace ='Division by zero!',\n",
    "                 value =np.nan)"
   ]
  },
  {
   "cell_type": "markdown",
   "id": "707219a8",
   "metadata": {},
   "source": [
    "### EDA Plot Visualisations"
   ]
  },
  {
   "cell_type": "code",
   "execution_count": 18,
   "id": "b3541604",
   "metadata": {},
   "outputs": [
    {
     "data": {
      "text/plain": [
       "<AxesSubplot:title={'center':'Average CO2 emissions (m tonnes) across ship types'}, xlabel='Ship type'>"
      ]
     },
     "execution_count": 18,
     "metadata": {},
     "output_type": "execute_result"
    },
    {
     "data": {
      "image/png": "[encoded data removed]",
      "text/plain": [
       "<Figure size 432x288 with 1 Axes>"
      ]
     },
     "metadata": {
      "needs_background": "light"
     },
     "output_type": "display_data"
    }
   ],
   "source": [
    "data_combined.groupby('Ship type')[\"Total CO₂ emissions [m tonnes]\"].mean().sort_values(ascending=True).plot(kind='bar',title='Average CO2 emissions (m tonnes) across ship types',color='pink')"
   ]
  },
  {
   "cell_type": "code",
   "execution_count": 19,
   "id": "de592489",
   "metadata": {},
   "outputs": [
    {
     "data": {
      "text/plain": [
       "<AxesSubplot:title={'center':'Total CO2 emissions (m tonnes) across ship types'}, xlabel='Ship type'>"
      ]
     },
     "execution_count": 19,
     "metadata": {},
     "output_type": "execute_result"
    },
    {
     "data": {
      "image/png": "[encoded data removed]",
      "text/plain": [
       "<Figure size 432x288 with 1 Axes>"
      ]
     },
     "metadata": {
      "needs_background": "light"
     },
     "output_type": "display_data"
    }
   ],
   "source": [
    "data_combined.groupby('Ship type')[\"Total CO₂ emissions [m tonnes]\"].sum().sort_values(ascending=True).plot(kind='bar',title='Total CO2 emissions (m tonnes) across ship types',color='cadetblue')"
   ]
  },
  {
   "cell_type": "code",
   "execution_count": 20,
   "id": "385fef2c",
   "metadata": {},
   "outputs": [
    {
     "data": {
      "text/plain": [
       "<AxesSubplot:title={'center':'Average Fuel consumption (m tonnes) across ship types'}, xlabel='Ship type'>"
      ]
     },
     "execution_count": 20,
     "metadata": {},
     "output_type": "execute_result"
    },
    {
     "data": {
      "image/png": "[encoded data removed]",
      "text/plain": [
       "<Figure size 432x288 with 1 Axes>"
      ]
     },
     "metadata": {
      "needs_background": "light"
     },
     "output_type": "display_data"
    }
   ],
   "source": [
    "data_combined.groupby('Ship type')[\"Total fuel consumption [m tonnes]\"].mean().sort_values(ascending=True).plot(kind='bar',title='Average Fuel consumption (m tonnes) across ship types',color='pink')"
   ]
  },
  {
   "cell_type": "code",
   "execution_count": 21,
   "id": "5b5e2f95",
   "metadata": {},
   "outputs": [],
   "source": [
    "## Replacing \n",
    "#data_combined['Annual average Fuel consumption per distance [kg / n mile]'] = data_combined['Annual average Fuel consumption per distance [kg / n mile]'].replace('Division by zero!',0)"
   ]
  },
  {
   "cell_type": "code",
   "execution_count": 22,
   "id": "6c5b3be4",
   "metadata": {},
   "outputs": [
    {
     "data": {
      "text/plain": [
       "<AxesSubplot:title={'center':'Annual average Fuel consumption per distance for ship types'}, xlabel='Ship type'>"
      ]
     },
     "execution_count": 22,
     "metadata": {},
     "output_type": "execute_result"
    },
    {
     "data": {
      "image/png": "[encoded data removed]",
      "text/plain": [
       "<Figure size 432x288 with 1 Axes>"
      ]
     },
     "metadata": {
      "needs_background": "light"
     },
     "output_type": "display_data"
    }
   ],
   "source": [
    "data_combined.groupby('Ship type')[\"Annual average Fuel consumption per distance [kg / n mile]\"].mean().sort_values(ascending=True).plot(kind='bar',title=\"Annual average Fuel consumption per distance for ship types\",color='burlywood')"
   ]
  },
  {
   "cell_type": "code",
   "execution_count": 23,
   "id": "4b738361",
   "metadata": {},
   "outputs": [
    {
     "data": {
      "text/plain": [
       "<AxesSubplot:title={'center':'Annual Total time spent at sea [hours] across ship types'}, xlabel='Ship type'>"
      ]
     },
     "execution_count": 23,
     "metadata": {},
     "output_type": "execute_result"
    },
    {
     "data": {
      "image/png": "[encoded data removed]",
      "text/plain": [
       "<Figure size 432x288 with 1 Axes>"
      ]
     },
     "metadata": {
      "needs_background": "light"
     },
     "output_type": "display_data"
    }
   ],
   "source": [
    "data_combined.groupby('Ship type')[\"Annual Total time spent at sea [hours]\"].sum().sort_values(ascending=True).plot(kind='bar', title=\"Annual Total time spent at sea [hours] across ship types\",color='olivedrab')"
   ]
  },
  {
   "cell_type": "code",
   "execution_count": 24,
   "id": "640b69db",
   "metadata": {},
   "outputs": [],
   "source": [
    "def division_fn(x,y):\n",
    "    try:\n",
    "        return x/y\n",
    "    except:\n",
    "        return 0"
   ]
  },
  {
   "cell_type": "code",
   "execution_count": 25,
   "id": "1d08ba57",
   "metadata": {},
   "outputs": [
    {
     "data": {
      "text/plain": [
       "<AxesSubplot:title={'center':'Annual average CO2 emissions per distance across ship types'}, xlabel='Ship type'>"
      ]
     },
     "execution_count": 25,
     "metadata": {},
     "output_type": "execute_result"
    },
    {
     "data": {
      "image/png": "[encoded data removed]",
      "text/plain": [
       "<Figure size 432x288 with 1 Axes>"
      ]
     },
     "metadata": {
      "needs_background": "light"
     },
     "output_type": "display_data"
    }
   ],
   "source": [
    "data_combined.groupby('Ship type')['Annual average CO₂ emissions per distance [kg CO₂ / n mile]'].mean().sort_values(ascending=True).plot(kind='bar',title='Annual average CO2 emissions per distance across ship types',color='orange')"
   ]
  },
  {
   "cell_type": "code",
   "execution_count": 26,
   "id": "8e5b69ae",
   "metadata": {},
   "outputs": [],
   "source": [
    "#create new column: CO2 emissions per hour\n",
    "data_combined[\"C02 emissions per hour\"] = data_combined.apply(lambda x: division_fn(x[\"Total CO₂ emissions [m tonnes]\"], x[\"Annual Total time spent at sea [hours]\"]), axis=1)"
   ]
  },
  {
   "cell_type": "code",
   "execution_count": 27,
   "id": "c9ba7a52",
   "metadata": {},
   "outputs": [
    {
     "data": {
      "text/plain": [
       "<AxesSubplot:title={'center':'Annual average CO2 emissions per hour across ship types'}, xlabel='Ship type'>"
      ]
     },
     "execution_count": 27,
     "metadata": {},
     "output_type": "execute_result"
    },
    {
     "data": {
      "image/png": "[encoded data removed]",
      "text/plain": [
       "<Figure size 432x288 with 1 Axes>"
      ]
     },
     "metadata": {
      "needs_background": "light"
     },
     "output_type": "display_data"
    }
   ],
   "source": [
    "data_combined.groupby('Ship type')[\"C02 emissions per hour\"].mean().sort_values(ascending=True).plot(kind='bar',title='Annual average CO2 emissions per hour across ship types',color='orange')"
   ]
  },
  {
   "cell_type": "code",
   "execution_count": 28,
   "id": "d232d945",
   "metadata": {},
   "outputs": [
    {
     "data": {
      "text/plain": [
       "<AxesSubplot:xlabel='Ship type'>"
      ]
     },
     "execution_count": 28,
     "metadata": {},
     "output_type": "execute_result"
    },
    {
     "data": {
      "image/png": "[encoded data removed]",
      "text/plain": [
       "<Figure size 432x288 with 1 Axes>"
      ]
     },
     "metadata": {
      "needs_background": "light"
     },
     "output_type": "display_data"
    }
   ],
   "source": [
    "data_combined.groupby('Ship type')[\"C02 emissions per hour\"].mean().sort_values().plot(kind='bar')"
   ]
  },
  {
   "cell_type": "code",
   "execution_count": 29,
   "id": "b1e4a4a7",
   "metadata": {},
   "outputs": [
    {
     "data": {
      "text/plain": [
       "Ship type\n",
       "Bulk carrier                  10861\n",
       "Chemical tanker                4070\n",
       "Combination carrier              36\n",
       "Container ship                 5504\n",
       "Container/ro-ro cargo ship      225\n",
       "Gas carrier                    1006\n",
       "General cargo ship             3647\n",
       "LNG carrier                     735\n",
       "Oil tanker                     5792\n",
       "Other ship types                404\n",
       "Passenger ship                  449\n",
       "Refrigerated cargo carrier      434\n",
       "Ro-pax ship                    1167\n",
       "Ro-ro ship                      788\n",
       "Vehicle carrier                1335\n",
       "Name: C02 emissions per hour, dtype: int64"
      ]
     },
     "execution_count": 29,
     "metadata": {},
     "output_type": "execute_result"
    }
   ],
   "source": [
    "data_combined.groupby('Ship type')[\"C02 emissions per hour\"].count()"
   ]
  },
  {
   "cell_type": "code",
   "execution_count": 30,
   "id": "4eab30cd",
   "metadata": {},
   "outputs": [],
   "source": [
    "#create new column: CO2 emissions per fuel consumption\n",
    "data_combined[\"C02 emissions per fuel consumption\"] = data_combined.apply(lambda x: division_fn(x[\"Total CO₂ emissions [m tonnes]\"], x[\"Total fuel consumption [m tonnes]\"]), axis=1)"
   ]
  },
  {
   "cell_type": "code",
   "execution_count": 31,
   "id": "8df8f2c2",
   "metadata": {},
   "outputs": [
    {
     "data": {
      "text/plain": [
       "<AxesSubplot:xlabel='Ship type'>"
      ]
     },
     "execution_count": 31,
     "metadata": {},
     "output_type": "execute_result"
    },
    {
     "data": {
      "image/png": "[encoded data removed]",
      "text/plain": [
       "<Figure size 432x288 with 1 Axes>"
      ]
     },
     "metadata": {
      "needs_background": "light"
     },
     "output_type": "display_data"
    }
   ],
   "source": [
    "data_combined.groupby('Ship type')[\"C02 emissions per fuel consumption\"].mean().sort_values().plot(kind='bar')"
   ]
  },
  {
   "cell_type": "code",
   "execution_count": 32,
   "id": "10bebda3",
   "metadata": {},
   "outputs": [],
   "source": [
    "## extract value from Technical efficiency column\n",
    "for i in range(len(data_combined)):\n",
    "    x = data_combined[\"Technical efficiency\"][i]\n",
    "    if re.findall(r\"[-+]?\\d*\\.\\d+|\\d+\", str(x)) == []:\n",
    "        data_combined.at[i,\"tech_eff\"] = np.nan\n",
    "    else:\n",
    "        data_combined.at[i,\"tech_eff\"] = re.findall(r\"[-+]?\\d*\\.\\d+|\\d+\", str(x))[0]"
   ]
  },
  {
   "cell_type": "code",
   "execution_count": 33,
   "id": "208bdf4c",
   "metadata": {},
   "outputs": [],
   "source": [
    "first_column = data_combined.pop('tech_eff')\n",
    "# insert first_column into intended position using insert(position,column_name, first_column) function\n",
    "data_combined.insert(5, 'tech_eff', first_column)"
   ]
  },
  {
   "cell_type": "code",
   "execution_count": 34,
   "id": "f57a0a2f",
   "metadata": {},
   "outputs": [],
   "source": [
    "## extract name from Technical efficiency column\n",
    "for i in range(len(data_combined)):\n",
    "    x = data_combined[\"Technical efficiency\"][i]\n",
    "    try:\n",
    "        sep = ' ('\n",
    "        stripped = x.split(sep, 1)[0]\n",
    "        if not (re.findall(r\"[-+]?\\d*\\.\\d+|\\d+\", str(stripped))):\n",
    "            data_combined.at[i,\"tech_eff_name\"] = stripped\n",
    "        else:\n",
    "            data_combined.at[i,\"tech_eff_name\"] = np.nan\n",
    "    except:\n",
    "        data_combined.at[i,\"tech_eff_name\"] = x"
   ]
  },
  {
   "cell_type": "code",
   "execution_count": 35,
   "id": "9eaee22b",
   "metadata": {},
   "outputs": [],
   "source": [
    "first_column = data_combined.pop('tech_eff_name')\n",
    "# insert first_column into intended position using insert(position,column_name, first_column) function\n",
    "data_combined.insert(5, 'tech_eff_name', first_column)"
   ]
  },
  {
   "cell_type": "code",
   "execution_count": 36,
   "id": "41751f2d",
   "metadata": {},
   "outputs": [
    {
     "data": {
      "text/html": [
       "<div>\n",
       "<style scoped>\n",
       "    .dataframe tbody tr th:only-of-type {\n",
       "        vertical-align: middle;\n",
       "    }\n",
       "\n",
       "    .dataframe tbody tr th {\n",
       "        vertical-align: top;\n",
       "    }\n",
       "\n",
       "    .dataframe thead th {\n",
       "        text-align: right;\n",
       "    }\n",
       "</style>\n",
       "<table border=\"1\" class=\"dataframe\">\n",
       "  <thead>\n",
       "    <tr style=\"text-align: right;\">\n",
       "      <th></th>\n",
       "      <th>count</th>\n",
       "      <th>mean</th>\n",
       "      <th>std</th>\n",
       "      <th>min</th>\n",
       "      <th>25%</th>\n",
       "      <th>50%</th>\n",
       "      <th>75%</th>\n",
       "      <th>max</th>\n",
       "    </tr>\n",
       "    <tr>\n",
       "      <th>Ship type</th>\n",
       "      <th></th>\n",
       "      <th></th>\n",
       "      <th></th>\n",
       "      <th></th>\n",
       "      <th></th>\n",
       "      <th></th>\n",
       "      <th></th>\n",
       "      <th></th>\n",
       "    </tr>\n",
       "  </thead>\n",
       "  <tbody>\n",
       "    <tr>\n",
       "      <th>Bulk carrier</th>\n",
       "      <td>10012.0</td>\n",
       "      <td>7.591864</td>\n",
       "      <td>101.269477</td>\n",
       "      <td>0.00</td>\n",
       "      <td>3.9000</td>\n",
       "      <td>4.860</td>\n",
       "      <td>6.1400</td>\n",
       "      <td>5857.00</td>\n",
       "    </tr>\n",
       "    <tr>\n",
       "      <th>Chemical tanker</th>\n",
       "      <td>3732.0</td>\n",
       "      <td>8.711152</td>\n",
       "      <td>4.370057</td>\n",
       "      <td>0.00</td>\n",
       "      <td>5.6800</td>\n",
       "      <td>7.320</td>\n",
       "      <td>10.9625</td>\n",
       "      <td>98.00</td>\n",
       "    </tr>\n",
       "    <tr>\n",
       "      <th>Combination carrier</th>\n",
       "      <td>32.0</td>\n",
       "      <td>14.610312</td>\n",
       "      <td>12.346210</td>\n",
       "      <td>3.59</td>\n",
       "      <td>5.0100</td>\n",
       "      <td>8.590</td>\n",
       "      <td>22.6900</td>\n",
       "      <td>41.00</td>\n",
       "    </tr>\n",
       "    <tr>\n",
       "      <th>Container ship</th>\n",
       "      <td>4806.0</td>\n",
       "      <td>18.425728</td>\n",
       "      <td>8.674169</td>\n",
       "      <td>0.00</td>\n",
       "      <td>12.3525</td>\n",
       "      <td>18.100</td>\n",
       "      <td>22.7400</td>\n",
       "      <td>205.00</td>\n",
       "    </tr>\n",
       "    <tr>\n",
       "      <th>Container/ro-ro cargo ship</th>\n",
       "      <td>211.0</td>\n",
       "      <td>11.039005</td>\n",
       "      <td>5.210459</td>\n",
       "      <td>6.89</td>\n",
       "      <td>8.1100</td>\n",
       "      <td>9.280</td>\n",
       "      <td>12.3900</td>\n",
       "      <td>45.00</td>\n",
       "    </tr>\n",
       "    <tr>\n",
       "      <th>Gas carrier</th>\n",
       "      <td>898.0</td>\n",
       "      <td>12.625445</td>\n",
       "      <td>6.388954</td>\n",
       "      <td>1.00</td>\n",
       "      <td>7.5000</td>\n",
       "      <td>11.210</td>\n",
       "      <td>17.0000</td>\n",
       "      <td>54.96</td>\n",
       "    </tr>\n",
       "    <tr>\n",
       "      <th>General cargo ship</th>\n",
       "      <td>3176.0</td>\n",
       "      <td>14.011867</td>\n",
       "      <td>19.745771</td>\n",
       "      <td>0.00</td>\n",
       "      <td>9.8975</td>\n",
       "      <td>13.370</td>\n",
       "      <td>15.4200</td>\n",
       "      <td>1058.00</td>\n",
       "    </tr>\n",
       "    <tr>\n",
       "      <th>LNG carrier</th>\n",
       "      <td>615.0</td>\n",
       "      <td>19.541837</td>\n",
       "      <td>236.162234</td>\n",
       "      <td>3.06</td>\n",
       "      <td>6.0900</td>\n",
       "      <td>7.620</td>\n",
       "      <td>10.4800</td>\n",
       "      <td>5856.00</td>\n",
       "    </tr>\n",
       "    <tr>\n",
       "      <th>Oil tanker</th>\n",
       "      <td>5410.0</td>\n",
       "      <td>5.972346</td>\n",
       "      <td>41.214481</td>\n",
       "      <td>0.00</td>\n",
       "      <td>3.3200</td>\n",
       "      <td>4.160</td>\n",
       "      <td>6.0500</td>\n",
       "      <td>2992.00</td>\n",
       "    </tr>\n",
       "    <tr>\n",
       "      <th>Other ship types</th>\n",
       "      <td>282.0</td>\n",
       "      <td>17.711348</td>\n",
       "      <td>15.836519</td>\n",
       "      <td>0.00</td>\n",
       "      <td>7.6950</td>\n",
       "      <td>13.190</td>\n",
       "      <td>25.0000</td>\n",
       "      <td>177.98</td>\n",
       "    </tr>\n",
       "    <tr>\n",
       "      <th>Passenger ship</th>\n",
       "      <td>276.0</td>\n",
       "      <td>20.355906</td>\n",
       "      <td>25.082794</td>\n",
       "      <td>0.00</td>\n",
       "      <td>9.2000</td>\n",
       "      <td>17.735</td>\n",
       "      <td>21.9000</td>\n",
       "      <td>261.39</td>\n",
       "    </tr>\n",
       "    <tr>\n",
       "      <th>Refrigerated cargo carrier</th>\n",
       "      <td>406.0</td>\n",
       "      <td>22.161305</td>\n",
       "      <td>5.463820</td>\n",
       "      <td>8.27</td>\n",
       "      <td>18.4900</td>\n",
       "      <td>23.290</td>\n",
       "      <td>25.6100</td>\n",
       "      <td>48.00</td>\n",
       "    </tr>\n",
       "    <tr>\n",
       "      <th>Ro-pax ship</th>\n",
       "      <td>996.0</td>\n",
       "      <td>35.064819</td>\n",
       "      <td>61.466838</td>\n",
       "      <td>0.00</td>\n",
       "      <td>10.3750</td>\n",
       "      <td>22.660</td>\n",
       "      <td>36.5900</td>\n",
       "      <td>637.50</td>\n",
       "    </tr>\n",
       "    <tr>\n",
       "      <th>Ro-ro ship</th>\n",
       "      <td>668.0</td>\n",
       "      <td>19.903503</td>\n",
       "      <td>17.275384</td>\n",
       "      <td>0.00</td>\n",
       "      <td>10.7400</td>\n",
       "      <td>15.765</td>\n",
       "      <td>22.9975</td>\n",
       "      <td>313.80</td>\n",
       "    </tr>\n",
       "    <tr>\n",
       "      <th>Vehicle carrier</th>\n",
       "      <td>1134.0</td>\n",
       "      <td>20.065071</td>\n",
       "      <td>7.825068</td>\n",
       "      <td>0.00</td>\n",
       "      <td>15.7900</td>\n",
       "      <td>18.105</td>\n",
       "      <td>22.2500</td>\n",
       "      <td>74.91</td>\n",
       "    </tr>\n",
       "  </tbody>\n",
       "</table>\n",
       "</div>"
      ],
      "text/plain": [
       "                              count       mean         std   min      25%  \\\n",
       "Ship type                                                                   \n",
       "Bulk carrier                10012.0   7.591864  101.269477  0.00   3.9000   \n",
       "Chemical tanker              3732.0   8.711152    4.370057  0.00   5.6800   \n",
       "Combination carrier            32.0  14.610312   12.346210  3.59   5.0100   \n",
       "Container ship               4806.0  18.425728    8.674169  0.00  12.3525   \n",
       "Container/ro-ro cargo ship    211.0  11.039005    5.210459  6.89   8.1100   \n",
       "Gas carrier                   898.0  12.625445    6.388954  1.00   7.5000   \n",
       "General cargo ship           3176.0  14.011867   19.745771  0.00   9.8975   \n",
       "LNG carrier                   615.0  19.541837  236.162234  3.06   6.0900   \n",
       "Oil tanker                   5410.0   5.972346   41.214481  0.00   3.3200   \n",
       "Other ship types              282.0  17.711348   15.836519  0.00   7.6950   \n",
       "Passenger ship                276.0  20.355906   25.082794  0.00   9.2000   \n",
       "Refrigerated cargo carrier    406.0  22.161305    5.463820  8.27  18.4900   \n",
       "Ro-pax ship                   996.0  35.064819   61.466838  0.00  10.3750   \n",
       "Ro-ro ship                    668.0  19.903503   17.275384  0.00  10.7400   \n",
       "Vehicle carrier              1134.0  20.065071    7.825068  0.00  15.7900   \n",
       "\n",
       "                               50%      75%      max  \n",
       "Ship type                                             \n",
       "Bulk carrier                 4.860   6.1400  5857.00  \n",
       "Chemical tanker              7.320  10.9625    98.00  \n",
       "Combination carrier          8.590  22.6900    41.00  \n",
       "Container ship              18.100  22.7400   205.00  \n",
       "Container/ro-ro cargo ship   9.280  12.3900    45.00  \n",
       "Gas carrier                 11.210  17.0000    54.96  \n",
       "General cargo ship          13.370  15.4200  1058.00  \n",
       "LNG carrier                  7.620  10.4800  5856.00  \n",
       "Oil tanker                   4.160   6.0500  2992.00  \n",
       "Other ship types            13.190  25.0000   177.98  \n",
       "Passenger ship              17.735  21.9000   261.39  \n",
       "Refrigerated cargo carrier  23.290  25.6100    48.00  \n",
       "Ro-pax ship                 22.660  36.5900   637.50  \n",
       "Ro-ro ship                  15.765  22.9975   313.80  \n",
       "Vehicle carrier             18.105  22.2500    74.91  "
      ]
     },
     "execution_count": 36,
     "metadata": {},
     "output_type": "execute_result"
    }
   ],
   "source": [
    "#view statistics for tech_eff\n",
    "data_combined.groupby('Ship type')['tech_eff'].describe()"
   ]
  },
  {
   "cell_type": "markdown",
   "id": "971c137b",
   "metadata": {},
   "source": [
    "#### Extracting EEOI values"
   ]
  },
  {
   "cell_type": "code",
   "execution_count": 37,
   "id": "9f5c358d",
   "metadata": {},
   "outputs": [],
   "source": [
    "transport_work_mass = ['Bulk carrier',\n",
    "'Chemical tanker',\n",
    "'Combination carrier',\n",
    "'Container ship',\n",
    "'Container/ro-ro cargo ship',\n",
    "'Gas carrier',\n",
    "'LNG carrier',\n",
    "'Oil tanker',\n",
    "'Other ship types',\n",
    "'Refrigerated cargo carrier',\n",
    "'Ro-ro ship',\n",
    "'Vehicle carrier']"
   ]
  },
  {
   "cell_type": "code",
   "execution_count": 38,
   "id": "b3e019ab",
   "metadata": {},
   "outputs": [],
   "source": [
    "transport_work_pax = ['Passenger ship']"
   ]
  },
  {
   "cell_type": "code",
   "execution_count": 39,
   "id": "4ee4424a",
   "metadata": {},
   "outputs": [],
   "source": [
    "transport_work_dwt = ['General cargo ship']"
   ]
  },
  {
   "cell_type": "code",
   "execution_count": 40,
   "id": "d6ca5177",
   "metadata": {},
   "outputs": [],
   "source": [
    "transport_work_freight = ['Ro-pax ship']"
   ]
  },
  {
   "cell_type": "code",
   "execution_count": 41,
   "id": "d3aa707e",
   "metadata": {},
   "outputs": [],
   "source": [
    "## map EEOI column based on ship type\n",
    "\n",
    "for i in range(len(data_combined)):\n",
    "    x = data_combined[\"Ship type\"][i]\n",
    "    if x in transport_work_mass:\n",
    "        data_combined.at[i,\"EEOI_Index\"] = data_combined[\"Annual average CO₂ emissions per transport work (mass) [g CO₂ / m tonnes · n miles]\"][i]\n",
    "    elif x in transport_work_pax:\n",
    "        data_combined.at[i,\"EEOI_Index\"] = data_combined[\"Annual average CO₂ emissions per transport work (pax) [g CO₂ / pax · n miles]\"][i]\n",
    "    elif x in transport_work_dwt:\n",
    "        data_combined.at[i,\"EEOI_Index\"] = data_combined[\"Annual average CO₂ emissions per transport work (dwt) [g CO₂ / dwt carried · n miles]\"][i]\n",
    "    elif x in transport_work_freight:\n",
    "        data_combined.at[i,\"EEOI_Index\"] = data_combined[\"Annual average CO₂ emissions per transport work (freight) [g CO₂ / m tonnes · n miles]\"][i]"
   ]
  },
  {
   "cell_type": "code",
   "execution_count": 42,
   "id": "0920acb5",
   "metadata": {},
   "outputs": [],
   "source": [
    "## save data_combined\n",
    "\n",
    "# data_combined.to_csv(\"data_combined.csv\",index=False)\n",
    "# data_combined.to_excel(\"data_combined.xlsx\",index=False)"
   ]
  },
  {
   "cell_type": "code",
   "execution_count": 43,
   "id": "f44dc861",
   "metadata": {},
   "outputs": [],
   "source": [
    "## filter data_combined to subset of columns\n",
    "\n",
    "columns_to_keep = ['Ship type',\n",
    "                   'Reporting Period',\n",
    "                   'Technical efficiency',\n",
    "                   'tech_eff_name',\n",
    "                   'tech_eff',\n",
    "                   'Port of Registry',\n",
    "                   'Home Port',\n",
    "                   'Total fuel consumption [m tonnes]',\n",
    "                   'Total CO₂ emissions [m tonnes]',\n",
    "                   'CO₂ emissions from all voyages between ports under a MS jurisdiction [m tonnes]',\n",
    "                   'CO₂ emissions from all voyages which departed from ports under a MS jurisdiction [m tonnes]',\n",
    "                   'CO₂ emissions from all voyages to ports under a MS jurisdiction [m tonnes]',\n",
    "                   'CO₂ emissions which occurred within ports under a MS jurisdiction at berth [m tonnes]',\n",
    "                   'Annual Total time spent at sea [hours]',\n",
    "                   'Annual average Fuel consumption per distance [kg / n mile]',\n",
    "                   'Annual average Fuel consumption per transport work (mass) [g / m tonnes · n miles]',\n",
    "                   'Annual average CO₂ emissions per distance [kg CO₂ / n mile]',\n",
    "                   'Annual average CO₂ emissions per transport work (mass) [g CO₂ / m tonnes · n miles]',\n",
    "                   'C02 emissions per hour', \n",
    "                   'C02 emissions per fuel consumption',\n",
    "                  'EEOI_Index']"
   ]
  },
  {
   "cell_type": "code",
   "execution_count": 44,
   "id": "481e6185",
   "metadata": {},
   "outputs": [],
   "source": [
    "data_combined_clean = data_combined[columns_to_keep]"
   ]
  },
  {
   "cell_type": "markdown",
   "id": "1553bed1",
   "metadata": {},
   "source": [
    "### Removing outliers (focusing on removing 10th and 90th percentile values)"
   ]
  },
  {
   "cell_type": "code",
   "execution_count": 45,
   "id": "9b29b304",
   "metadata": {},
   "outputs": [],
   "source": [
    "## removing outliers for tech_eff column"
   ]
  },
  {
   "cell_type": "code",
   "execution_count": 46,
   "id": "03f94eca",
   "metadata": {},
   "outputs": [],
   "source": [
    "tech_range = data_combined_clean.groupby('Ship type')[\"tech_eff\"].describe(percentiles=[0.1,0.9]).reset_index()"
   ]
  },
  {
   "cell_type": "code",
   "execution_count": 47,
   "id": "10c26cae",
   "metadata": {},
   "outputs": [],
   "source": [
    "tech_range_clean = pd.DataFrame()\n",
    "for i in range(len(tech_range)):\n",
    "    x = tech_range[\"Ship type\"][i]\n",
    "    data = data_combined_clean[data_combined_clean[\"Ship type\"] == x]\n",
    "    data = data[data[\"tech_eff\"].between(tech_range[\"10%\"][i],tech_range[\"90%\"][i])]\n",
    "    tech_range_clean = pd.concat(([tech_range_clean,data]))\n",
    "tech_range_clean = tech_range_clean.reset_index(drop=True)"
   ]
  },
  {
   "cell_type": "code",
   "execution_count": 48,
   "id": "aacd634b",
   "metadata": {},
   "outputs": [],
   "source": [
    "## removing outliers for co2 emissions per hour column"
   ]
  },
  {
   "cell_type": "code",
   "execution_count": 49,
   "id": "668401a0",
   "metadata": {},
   "outputs": [],
   "source": [
    "co2_range = data_combined_clean.groupby('Ship type')[\"C02 emissions per hour\"].describe(percentiles=[0.1,0.9]).reset_index()"
   ]
  },
  {
   "cell_type": "code",
   "execution_count": 50,
   "id": "e6a9b945",
   "metadata": {},
   "outputs": [],
   "source": [
    "co2_range_clean = pd.DataFrame()\n",
    "for i in range(len(co2_range)):\n",
    "    x = co2_range[\"Ship type\"][i]\n",
    "    data = data_combined_clean[data_combined_clean[\"Ship type\"] == x]\n",
    "    data = data[data[\"C02 emissions per hour\"].between(co2_range[\"10%\"][i],co2_range[\"90%\"][i])]\n",
    "    co2_range_clean = pd.concat(([co2_range_clean,data]))\n",
    "co2_range_clean = co2_range_clean.reset_index(drop=True)"
   ]
  },
  {
   "cell_type": "code",
   "execution_count": 51,
   "id": "c6ec0ee3",
   "metadata": {},
   "outputs": [],
   "source": [
    "## removing outlier for eeoi_index column"
   ]
  },
  {
   "cell_type": "code",
   "execution_count": 52,
   "id": "482061d4",
   "metadata": {},
   "outputs": [],
   "source": [
    "eeoi_range = data_combined_clean.groupby('Ship type')[\"EEOI_Index\"].describe(percentiles=[0.1,0.9]).reset_index()"
   ]
  },
  {
   "cell_type": "code",
   "execution_count": 53,
   "id": "84d6f264",
   "metadata": {},
   "outputs": [],
   "source": [
    "eeoi_range_clean = pd.DataFrame()\n",
    "for i in range(len(eeoi_range)):\n",
    "    x = eeoi_range[\"Ship type\"][i]\n",
    "    data = data_combined_clean[data_combined_clean[\"Ship type\"] == x]\n",
    "    data = data[data[\"EEOI_Index\"].between(eeoi_range[\"10%\"][i],eeoi_range[\"90%\"][i])]\n",
    "    eeoi_range_clean = pd.concat(([eeoi_range_clean,data]))\n",
    "eeoi_range_clean = eeoi_range_clean.reset_index(drop=True)"
   ]
  },
  {
   "cell_type": "code",
   "execution_count": 54,
   "id": "30bb7e50",
   "metadata": {},
   "outputs": [],
   "source": [
    "## inner merge 3 dataframes to remove all outliers across the 3 columns of interest\n",
    "merged_df = pd.merge(tech_range_clean, co2_range_clean, on=data_combined_clean.columns.tolist())\n",
    "finaldf = pd.merge(merged_df, eeoi_range_clean, on=data_combined_clean.columns.tolist())"
   ]
  },
  {
   "cell_type": "code",
   "execution_count": 55,
   "id": "8dda63ff",
   "metadata": {},
   "outputs": [
    {
     "data": {
      "text/plain": [
       "<AxesSubplot:title={'center':'Average Theoretical CO2 emissions per capacity mile across ship types'}, xlabel='Ship type'>"
      ]
     },
     "execution_count": 55,
     "metadata": {},
     "output_type": "execute_result"
    },
    {
     "data": {
      "image/png": "[encoded data removed]",
      "text/plain": [
       "<Figure size 432x288 with 1 Axes>"
      ]
     },
     "metadata": {
      "needs_background": "light"
     },
     "output_type": "display_data"
    }
   ],
   "source": [
    "finaldf.groupby('Ship type')[\"tech_eff\"].mean().sort_values(ascending=True).plot(kind='bar',title='Average Theoretical CO2 emissions per capacity mile across ship types',color='darkorchid')"
   ]
  },
  {
   "cell_type": "code",
   "execution_count": 56,
   "id": "d157345f",
   "metadata": {},
   "outputs": [
    {
     "data": {
      "text/plain": [
       "<AxesSubplot:title={'center':'Average EEOI Index across ship types'}, xlabel='Ship type'>"
      ]
     },
     "execution_count": 56,
     "metadata": {},
     "output_type": "execute_result"
    },
    {
     "data": {
      "image/png": "[encoded data removed]",
      "text/plain": [
       "<Figure size 432x288 with 1 Axes>"
      ]
     },
     "metadata": {
      "needs_background": "light"
     },
     "output_type": "display_data"
    }
   ],
   "source": [
    "finaldf.groupby('Ship type')[\"EEOI_Index\"].mean().sort_values(ascending=True).plot(kind='bar',title='Average EEOI Index across ship types',color='tomato')"
   ]
  },
  {
   "cell_type": "code",
   "execution_count": 57,
   "id": "14674674",
   "metadata": {},
   "outputs": [],
   "source": [
    "## save finaldf to csv file for running Clustering + Scoring\n",
    "\n",
    "#finaldf.to_csv(\"outlier_removed.csv\",index=False)"
   ]
  }
 ],
 "metadata": {
  "kernelspec": {
   "display_name": "bhavfinal",
   "language": "python",
   "name": "bhavfinal"
  },
  "language_info": {
   "codemirror_mode": {
    "name": "ipython",
    "version": 3
   },
   "file_extension": ".py",
   "mimetype": "text/x-python",
   "name": "python",
   "nbconvert_exporter": "python",
   "pygments_lexer": "ipython3",
   "version": "3.8.5"
  }
 },
 "nbformat": 4,
 "nbformat_minor": 5
}
